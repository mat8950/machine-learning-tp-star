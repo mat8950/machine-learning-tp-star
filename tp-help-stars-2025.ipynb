{
 "cells": [
  {
   "cell_type": "markdown",
   "id": "372d0d15",
   "metadata": {},
   "source": [
    "# Objectif\n",
    "\n",
    "Regrouper les étoiles en fonction de plusieurs caractéristiques pour ensuite affecter n’importe quelle nouvelle étoile à l’un de ces groupes.\n",
    "\n",
    "# Mise en situation\n",
    "\n",
    "Dans l'étude des étoiles de notre galaxie, je connais la masse, le diamètre, et la distance depuis la terre de plusieurs dizaines étoiles. Je souhaite les regrouper sans connaître les caractéristiques de regroupement. Définissons 4 groupes différents.\n",
    "\n",
    "\n",
    "\n",
    "# Travail attendu\n",
    "\n",
    "Pour réaliser cette étude, vous devez sélectionner le modèle et le mode d'entraînement le plus adapté.\n",
    "\n",
    "Votre jeu de données de départ est un fichier qui va nécessiter du nettoyage. \n",
    "\n",
    "Vous constatez notamment qu’une partie des données, la 2ème moitié du fichier, a été décalée d’une colonne, et donc la colonne distance contient en réalité la donnée nom de l’étoile, la masse la distance, etc. \n",
    "\n",
    "# Caractéristiques\n",
    "\n",
    "Pour la construction du modèle, nous souhaitons considérer uniquement les caractéristiques suivantes : \n",
    "\n",
    "* Masse\n",
    "* Distance depuis la Terre\n",
    "* Rayon\n",
    "\n",
    "\n",
    "# Résultat\n",
    "\n",
    "Grâce à votre modèle, vous devez être en mesure de nous indiquer à quel groupe appartient cette étoile, et surtout combien d'étoiles appartiennent déjà à ce groupe.\n",
    "\n",
    "```\n",
    "31,Alnair,0101,4.0,3.4,260\n",
    "```\n",
    "\n",
    "# Barème de notation\n",
    "\n",
    "\n",
    "| Critère notation| Barème |\n",
    "| ----------- | ----------- |\n",
    "| Nettoyage de données exclusivement avec Pandas|4|\n",
    "| Normalisation du jeu de données (avec MinMax, MaxAbsolu)|2|\n",
    "| Jeu de données contenant uniquement les 3 caractéristiques utiles|3|\n",
    "| Utilisation de matplotlib pour afficher les étoiles dans un graphique|3|\n",
    "| Choix de l'estimateur scikit-learn le plus adapté|3|\n",
    "| Entrainement du modèle|3|\n",
    "| Affichage des différents groupes dans le graphique avec matplotlib|2|\n",
    "||20|\n",
    "\n",
    "\n",
    "# Aide complémentaire\n",
    "\n",
    "Quelques informations utiles pour la transformation de données depuis Pandas vous sont indiquées pour mener à bien la préparation de données.\n"
   ]
  },
  {
   "cell_type": "code",
   "execution_count": null,
   "id": "8dd38b62",
   "metadata": {},
   "outputs": [],
   "source": [
    "import pandas as pd"
   ]
  },
  {
   "cell_type": "code",
   "execution_count": null,
   "id": "3284ad34",
   "metadata": {},
   "outputs": [],
   "source": [
    "# Créer un nouveau dataframe vierge \n",
    "df = pd.DataFrame()"
   ]
  },
  {
   "cell_type": "code",
   "execution_count": null,
   "id": "73521e5f",
   "metadata": {},
   "outputs": [],
   "source": [
    "# Créer une nouvelle colonne dans un dataframe \n",
    "df['new_col'] = [f'{x}' for x in range(1,100)]"
   ]
  },
  {
   "cell_type": "code",
   "execution_count": null,
   "id": "b047c452",
   "metadata": {},
   "outputs": [],
   "source": [
    "# Renommer une colonne\n",
    "df_renamed = df.rename(columns={'new_col': 'renamed'})"
   ]
  },
  {
   "cell_type": "code",
   "execution_count": null,
   "id": "b1d5fa49",
   "metadata": {},
   "outputs": [],
   "source": [
    "#Pour vous aider, voici une fonction python qui essaie de convertir une chaine de caractères en nombre à virgule \n",
    "def check_float(str):\n",
    "    try:\n",
    "        float(str)\n",
    "        return True\n",
    "    except:\n",
    "        return False\n",
    "    \n",
    "print(check_float('12.2'))\n",
    "print(check_float('a12'))"
   ]
  },
  {
   "cell_type": "code",
   "execution_count": null,
   "id": "edf89673",
   "metadata": {},
   "outputs": [],
   "source": [
    "# Convertir une chaine de caractère en nombre\n",
    "df['new_col'] = df['new_col'].apply(pd.to_numeric)\n",
    "\n",
    "df['mass_is_valid'] = df['mass'].apply(check_float)"
   ]
  },
  {
   "cell_type": "code",
   "execution_count": null,
   "id": "14893f9e",
   "metadata": {},
   "outputs": [],
   "source": [
    "# Pour appliquer une fonction à tous les enregistrements d’une colonne\n",
    "def duplicate(x):\n",
    "    return x + x\n",
    "df['new_col'].apply(duplicate)"
   ]
  },
  {
   "cell_type": "code",
   "execution_count": null,
   "id": "068d0c60",
   "metadata": {
    "scrolled": true
   },
   "outputs": [],
   "source": [
    "# Pour convertir un dataframe pandas en matrice numpy\n",
    "df.to_numpy()"
   ]
  },
  {
   "cell_type": "code",
   "execution_count": null,
   "id": "f1e0a5a8",
   "metadata": {},
   "outputs": [],
   "source": [
    "# Fusionner 2 dataframes \n",
    "df_1 = pd.DataFrame()\n",
    "df_1['col1'] = [x for x in range(1,10)]\n",
    "df_1['col2'] = [x for x in range(1,10)]\n",
    "df_2 = pd.DataFrame()\n",
    "df_2['col2'] = [x for x in range(1,10)]\n",
    "df_concat = pd.concat([df_1, df_2])\n",
    "df_concat.info()"
   ]
  },
  {
   "cell_type": "markdown",
   "id": "5dad687f",
   "metadata": {},
   "source": [
    "## Normalisation MinMax\n",
    "\n",
    " $$MinMax(x) = \\frac{x - min()}{max() - min()}$$\n",
    "\n",
    "## Normalisation MaxAbs\n",
    "\n",
    " $$MaxAbs(x) = \\frac{x}{|x|}$$"
   ]
  },
  {
   "cell_type": "code",
   "execution_count": null,
   "id": "9fc911a7",
   "metadata": {},
   "outputs": [],
   "source": []
  },
  {
   "cell_type": "markdown",
   "id": "0d084acd",
   "metadata": {},
   "source": [
    "# Livrable attendu\n",
    "\n",
    "Pour réaliser le rendu, merci de fournir le lien vers un repo Git en répondant à ce [formulaire Google](https://forms.gle/BDbAJdaSBtCfPDqf8) qui contiendra votre réponse sous forme d'un notebook jupyter avec la dernière cellule indiquant le groupe auquel appartient l'étoile Alnair d'après votre modèle."
   ]
  }
 ],
 "metadata": {
  "kernelspec": {
   "display_name": "Python 3 (ipykernel)",
   "language": "python",
   "name": "python3"
  },
  "language_info": {
   "codemirror_mode": {
    "name": "ipython",
    "version": 3
   },
   "file_extension": ".py",
   "mimetype": "text/x-python",
   "name": "python",
   "nbconvert_exporter": "python",
   "pygments_lexer": "ipython3",
   "version": "3.10.9"
  }
 },
 "nbformat": 4,
 "nbformat_minor": 5
}
