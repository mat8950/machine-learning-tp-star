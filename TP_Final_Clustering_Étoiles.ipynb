{
 "cells": [
  {
   "cell_type": "code",
   "execution_count": 58,
   "id": "fc7d1d9f",
   "metadata": {},
   "outputs": [],
   "source": [
    "import pandas as pd\n",
    "from sklearn.preprocessing import MinMaxScaler\n",
    "from sklearn.cluster import KMeans\n",
    "import matplotlib.pyplot as plt"
   ]
  },
  {
   "cell_type": "markdown",
   "id": "f64acbad",
   "metadata": {},
   "source": [
    "# Nettoyage de données exclusivement avec Pandas"
   ]
  },
  {
   "cell_type": "code",
   "execution_count": 59,
   "id": "99db2f22",
   "metadata": {},
   "outputs": [
    {
     "data": {
      "text/html": [
       "<div>\n",
       "<style scoped>\n",
       "    .dataframe tbody tr th:only-of-type {\n",
       "        vertical-align: middle;\n",
       "    }\n",
       "\n",
       "    .dataframe tbody tr th {\n",
       "        vertical-align: top;\n",
       "    }\n",
       "\n",
       "    .dataframe thead th {\n",
       "        text-align: right;\n",
       "    }\n",
       "</style>\n",
       "<table border=\"1\" class=\"dataframe\">\n",
       "  <thead>\n",
       "    <tr style=\"text-align: right;\">\n",
       "      <th></th>\n",
       "      <th>Mass</th>\n",
       "      <th>Distance</th>\n",
       "      <th>Radius</th>\n",
       "    </tr>\n",
       "  </thead>\n",
       "  <tbody>\n",
       "    <tr>\n",
       "      <th>0</th>\n",
       "      <td>1.0</td>\n",
       "      <td>15813.0</td>\n",
       "      <td>1.00</td>\n",
       "    </tr>\n",
       "    <tr>\n",
       "      <th>1</th>\n",
       "      <td>2.1</td>\n",
       "      <td>86.0</td>\n",
       "      <td>1.71</td>\n",
       "    </tr>\n",
       "    <tr>\n",
       "      <th>2</th>\n",
       "      <td>15.0</td>\n",
       "      <td>310.0</td>\n",
       "      <td>71.00</td>\n",
       "    </tr>\n",
       "    <tr>\n",
       "      <th>3</th>\n",
       "      <td>1.1</td>\n",
       "      <td>44.0</td>\n",
       "      <td>1.20</td>\n",
       "    </tr>\n",
       "    <tr>\n",
       "      <th>4</th>\n",
       "      <td>1.1</td>\n",
       "      <td>37.0</td>\n",
       "      <td>26.00</td>\n",
       "    </tr>\n",
       "    <tr>\n",
       "      <th>5</th>\n",
       "      <td>2.2</td>\n",
       "      <td>25.0</td>\n",
       "      <td>2.70</td>\n",
       "    </tr>\n",
       "    <tr>\n",
       "      <th>6</th>\n",
       "      <td>2.6</td>\n",
       "      <td>43.0</td>\n",
       "      <td>12.00</td>\n",
       "    </tr>\n",
       "    <tr>\n",
       "      <th>7</th>\n",
       "      <td>23.0</td>\n",
       "      <td>860.0</td>\n",
       "      <td>78.90</td>\n",
       "    </tr>\n",
       "    <tr>\n",
       "      <th>8</th>\n",
       "      <td>1.5</td>\n",
       "      <td>114.0</td>\n",
       "      <td>1.90</td>\n",
       "    </tr>\n",
       "    <tr>\n",
       "      <th>9</th>\n",
       "      <td>20.0</td>\n",
       "      <td>6401.0</td>\n",
       "      <td>950.00</td>\n",
       "    </tr>\n",
       "    <tr>\n",
       "      <th>10</th>\n",
       "      <td>6.7</td>\n",
       "      <td>144.0</td>\n",
       "      <td>9.30</td>\n",
       "    </tr>\n",
       "    <tr>\n",
       "      <th>11</th>\n",
       "      <td>10.5</td>\n",
       "      <td>390.0</td>\n",
       "      <td>8.60</td>\n",
       "    </tr>\n",
       "    <tr>\n",
       "      <th>12</th>\n",
       "      <td>1.8</td>\n",
       "      <td>17.0</td>\n",
       "      <td>1.80</td>\n",
       "    </tr>\n",
       "    <tr>\n",
       "      <th>13</th>\n",
       "      <td>18.0</td>\n",
       "      <td>320.0</td>\n",
       "      <td>8.90</td>\n",
       "    </tr>\n",
       "    <tr>\n",
       "      <th>14</th>\n",
       "      <td>1.5</td>\n",
       "      <td>65.0</td>\n",
       "      <td>44.00</td>\n",
       "    </tr>\n",
       "  </tbody>\n",
       "</table>\n",
       "</div>"
      ],
      "text/plain": [
       "    Mass  Distance  Radius\n",
       "0    1.0   15813.0    1.00\n",
       "1    2.1      86.0    1.71\n",
       "2   15.0     310.0   71.00\n",
       "3    1.1      44.0    1.20\n",
       "4    1.1      37.0   26.00\n",
       "5    2.2      25.0    2.70\n",
       "6    2.6      43.0   12.00\n",
       "7   23.0     860.0   78.90\n",
       "8    1.5     114.0    1.90\n",
       "9   20.0    6401.0  950.00\n",
       "10   6.7     144.0    9.30\n",
       "11  10.5     390.0    8.60\n",
       "12   1.8      17.0    1.80\n",
       "13  18.0     320.0    8.90\n",
       "14   1.5      65.0   44.00"
      ]
     },
     "execution_count": 59,
     "metadata": {},
     "output_type": "execute_result"
    }
   ],
   "source": [
    "# Chargement des données à partir du fichier CSV\n",
    "df = pd.read_csv('./total_stars.csv')\n",
    "\n",
    "# Sélection des colonnes utiles : 'Mass', 'Distance', 'Radius'\n",
    "df_clean = df[['Mass', 'Distance', 'Radius']].copy()\n",
    "\n",
    "# Nettoyage : suppression des caractères non numériques dans la colonne 'Distance'\n",
    "df_clean['Distance'] = df_clean['Distance'].replace(r'\\D+', '', regex=True)\n",
    "\n",
    "# Conversion des colonnes en valeurs numériques valides\n",
    "df_clean['Mass'] = pd.to_numeric(df_clean['Mass'], errors='coerce')\n",
    "df_clean['Radius'] = pd.to_numeric(df_clean['Radius'].replace(r'[^\\d.]', '', regex=True), errors='coerce')\n",
    "df_clean['Distance'] = pd.to_numeric(df_clean['Distance'], errors='coerce')\n",
    "\n",
    "# Suppression des lignes contenant des valeurs manquantes (NaN)\n",
    "df_clean.dropna(inplace=True)\n",
    "\n",
    "# Enregistrer et exporter les résultats \n",
    "df_clean.to_csv('TP_etoiles_clusters.csv', index=False)\n",
    "\n",
    "# Aperçu des 15 premières lignes du DataFrame nettoyé\n",
    "df_clean.head(15)"
   ]
  },
  {
   "cell_type": "markdown",
   "id": "c41e627a",
   "metadata": {},
   "source": [
    "## Normalisation des données"
   ]
  },
  {
   "cell_type": "code",
   "execution_count": 60,
   "id": "d5cfd902",
   "metadata": {},
   "outputs": [],
   "source": [
    "scaler = MinMaxScaler()\n",
    "df_normalized = scaler.fit_transform(df_clean)"
   ]
  },
  {
   "cell_type": "markdown",
   "id": "ed435d24",
   "metadata": {},
   "source": [
    "## Détermination du nombre optimal de clusters (Méthode du coude)"
   ]
  },
  {
   "cell_type": "markdown",
   "id": "f17f35be",
   "metadata": {},
   "source": [
    "## Choix du modèle : KMeans\n",
    "Nous avons choisi KMeans pour l'efficacité à regrouper des données sans étiquettes préalables. Simple, rapide et adapté aux données normalisées, il permet d'identifier des structures cachées comme des étoiles similaires en masse, rayon et distance.\n",
    "\n",
    "DBSCAN est bon pour les clusters irréguliers mais sensible aux paramètres et au bruit. L'Agglomerative Clustering est utile pour des hiérarchies de groupes, et les Gaussian Mixture Models (GMM) offrent plus de flexibilité mais supposent une distribution normale.\n",
    "\n",
    "Finalement, KMeans s'est imposé comme le choix le plus simple et compréhensible pour nos données."
   ]
  },
  {
   "cell_type": "code",
   "execution_count": 61,
   "id": "7b6637b9",
   "metadata": {},
   "outputs": [
    {
     "data": {
      "image/png": "[encoded data removed]",
      "text/plain": [
       "<Figure size 640x480 with 1 Axes>"
      ]
     },
     "metadata": {},
     "output_type": "display_data"
    }
   ],
   "source": [
    "inertia = []\n",
    "for k in range(1, 10):\n",
    "    kmeans = KMeans(n_clusters=k, random_state=42)\n",
    "    kmeans.fit(df_normalized)\n",
    "    inertia.append(kmeans.inertia_)\n",
    "\n",
    "plt.plot(range(1, 10), inertia, marker='o')\n",
    "plt.xlabel('Nombre de clusters')\n",
    "plt.ylabel('Inertie')\n",
    "plt.title(\"Méthode du coude\")\n",
    "plt.grid(True)\n",
    "plt.show()"
   ]
  },
  {
   "cell_type": "markdown",
   "id": "ed5fa21c",
   "metadata": {},
   "source": [
    "## Entraînement du modèle KMeans avec 4 clusters"
   ]
  },
  {
   "cell_type": "code",
   "execution_count": 62,
   "id": "17f22edf",
   "metadata": {},
   "outputs": [],
   "source": [
    "kmeans = KMeans(n_clusters=4, random_state=42)\n",
    "kmeans.fit(df_normalized)\n",
    "df_clean['Cluster'] = kmeans.predict(df_normalized)"
   ]
  },
  {
   "cell_type": "markdown",
   "id": "f77ef935",
   "metadata": {},
   "source": [
    "## Visualisation des clusters (Matplotlib)"
   ]
  },
  {
   "cell_type": "code",
   "execution_count": 63,
   "id": "2fcf3928",
   "metadata": {},
   "outputs": [
    {
     "data": {
      "image/png": "[encoded data removed]",
      "text/plain": [
       "<Figure size 1000x600 with 1 Axes>"
      ]
     },
     "metadata": {},
     "output_type": "display_data"
    }
   ],
   "source": [
    "plt.figure(figsize=(10, 6))\n",
    "for cluster_id in df_clean['Cluster'].unique():\n",
    "    subset = df_clean[df_clean['Cluster'] == cluster_id]\n",
    "    plt.scatter(subset['Mass'], subset['Radius'], label=f\"Cluster {cluster_id}\", alpha=0.6)\n",
    "plt.xlabel(\"Mass\")\n",
    "plt.ylabel(\"Radius\")\n",
    "plt.title(\"Répartition des étoiles par clusters (Mass vs Radius)\")\n",
    "plt.legend()\n",
    "plt.grid(True)\n",
    "plt.show()"
   ]
  },
  {
   "cell_type": "markdown",
   "id": "40ae407e",
   "metadata": {},
   "source": [
    "## Analyse complémentaire des clusters"
   ]
  },
  {
   "cell_type": "code",
   "execution_count": 66,
   "id": "df5f447e",
   "metadata": {},
   "outputs": [
    {
     "data": {
      "text/plain": [
       "Cluster\n",
       "0     19\n",
       "1    169\n",
       "2     11\n",
       "3     44\n",
       "Name: count, dtype: int64"
      ]
     },
     "execution_count": 66,
     "metadata": {},
     "output_type": "execute_result"
    }
   ],
   "source": [
    "df_clean['Cluster'].value_counts().sort_index()"
   ]
  },
  {
   "cell_type": "markdown",
   "id": "496e0424",
   "metadata": {},
   "source": [
    "## Prédiction du cluster pour l’étoile Alnair"
   ]
  },
  {
   "cell_type": "code",
   "execution_count": 65,
   "id": "006b4f90",
   "metadata": {},
   "outputs": [
    {
     "name": "stdout",
     "output_type": "stream",
     "text": [
      "L'étoile Alnair appartient au cluster 1.\n"
     ]
    }
   ],
   "source": [
    "alnair_features = pd.DataFrame([[5.7, 101, 3.1]], columns=['Mass', 'Distance', 'Radius'])\n",
    "alnair_scaled = scaler.transform(alnair_features)\n",
    "alnair_cluster = kmeans.predict(alnair_scaled)[0]\n",
    "print(f\"L'étoile Alnair appartient au cluster {alnair_cluster}.\")"
   ]
  }
 ],
 "metadata": {
  "kernelspec": {
   "display_name": "Python 3",
   "language": "python",
   "name": "python3"
  },
  "language_info": {
   "codemirror_mode": {
    "name": "ipython",
    "version": 3
   },
   "file_extension": ".py",
   "mimetype": "text/x-python",
   "name": "python",
   "nbconvert_exporter": "python",
   "pygments_lexer": "ipython3",
   "version": "3.12.6"
  }
 },
 "nbformat": 4,
 "nbformat_minor": 5
}
